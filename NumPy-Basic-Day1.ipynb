{
 "cells": [
  {
   "cell_type": "markdown",
   "id": "611d18c3",
   "metadata": {},
   "source": [
    "#1. Write a NumPy program to get the **numpy version** and show **numpy build configuration**"
   ]
  },
  {
   "cell_type": "code",
   "execution_count": null,
   "id": "aef6415f",
   "metadata": {},
   "outputs": [],
   "source": [
    "TOPICS:\n",
    "    np.__version__ , np.show_config() , np.info() , np.all(arr) , np.any() ,\n",
    "    np.arange().np.reshape , np.nditer() , isinf() , isfinite() , np.nan ,\n",
    "    np.inf , np.iscomplex() , np.isreal() , np.isscalar() , \n",
    "    arr.size*arr.itemsize"
   ]
  },
  {
   "cell_type": "code",
   "execution_count": 2,
   "id": "3a8afa2c",
   "metadata": {},
   "outputs": [
    {
     "name": "stdout",
     "output_type": "stream",
     "text": [
      "1.20.3\n",
      "blas_mkl_info:\n",
      "    libraries = ['mkl_rt']\n",
      "    library_dirs = ['C:/Users/hp/anaconda3\\\\Library\\\\lib']\n",
      "    define_macros = [('SCIPY_MKL_H', None), ('HAVE_CBLAS', None)]\n",
      "    include_dirs = ['C:/Users/hp/anaconda3\\\\Library\\\\include']\n",
      "blas_opt_info:\n",
      "    libraries = ['mkl_rt']\n",
      "    library_dirs = ['C:/Users/hp/anaconda3\\\\Library\\\\lib']\n",
      "    define_macros = [('SCIPY_MKL_H', None), ('HAVE_CBLAS', None)]\n",
      "    include_dirs = ['C:/Users/hp/anaconda3\\\\Library\\\\include']\n",
      "lapack_mkl_info:\n",
      "    libraries = ['mkl_rt']\n",
      "    library_dirs = ['C:/Users/hp/anaconda3\\\\Library\\\\lib']\n",
      "    define_macros = [('SCIPY_MKL_H', None), ('HAVE_CBLAS', None)]\n",
      "    include_dirs = ['C:/Users/hp/anaconda3\\\\Library\\\\include']\n",
      "lapack_opt_info:\n",
      "    libraries = ['mkl_rt']\n",
      "    library_dirs = ['C:/Users/hp/anaconda3\\\\Library\\\\lib']\n",
      "    define_macros = [('SCIPY_MKL_H', None), ('HAVE_CBLAS', None)]\n",
      "    include_dirs = ['C:/Users/hp/anaconda3\\\\Library\\\\include']\n",
      "None\n"
     ]
    }
   ],
   "source": [
    "import numpy as np\n",
    "\n",
    "print(np.__version__)\n",
    "print(np.show_config())"
   ]
  },
  {
   "cell_type": "markdown",
   "id": "e78f76e2",
   "metadata": {},
   "source": [
    "#2. Write a NumPy program to  get help on the add function"
   ]
  },
  {
   "cell_type": "code",
   "execution_count": null,
   "id": "b01a5805",
   "metadata": {},
   "outputs": [],
   "source": [
    "import numpy as np"
   ]
  },
  {
   "cell_type": "code",
   "execution_count": 4,
   "id": "e8ea6f7a",
   "metadata": {},
   "outputs": [
    {
     "name": "stdout",
     "output_type": "stream",
     "text": [
      "add(x1, x2, /, out=None, *, where=True, casting='same_kind', order='K', dtype=None, subok=True[, signature, extobj])\n",
      "\n",
      "Add arguments element-wise.\n",
      "\n",
      "Parameters\n",
      "----------\n",
      "x1, x2 : array_like\n",
      "    The arrays to be added.\n",
      "    If ``x1.shape != x2.shape``, they must be broadcastable to a common\n",
      "    shape (which becomes the shape of the output).\n",
      "out : ndarray, None, or tuple of ndarray and None, optional\n",
      "    A location into which the result is stored. If provided, it must have\n",
      "    a shape that the inputs broadcast to. If not provided or None,\n",
      "    a freshly-allocated array is returned. A tuple (possible only as a\n",
      "    keyword argument) must have length equal to the number of outputs.\n",
      "where : array_like, optional\n",
      "    This condition is broadcast over the input. At locations where the\n",
      "    condition is True, the `out` array will be set to the ufunc result.\n",
      "    Elsewhere, the `out` array will retain its original value.\n",
      "    Note that if an uninitialized `out` array is created via the default\n",
      "    ``out=None``, locations within it where the condition is False will\n",
      "    remain uninitialized.\n",
      "**kwargs\n",
      "    For other keyword-only arguments, see the\n",
      "    :ref:`ufunc docs <ufuncs.kwargs>`.\n",
      "\n",
      "Returns\n",
      "-------\n",
      "add : ndarray or scalar\n",
      "    The sum of `x1` and `x2`, element-wise.\n",
      "    This is a scalar if both `x1` and `x2` are scalars.\n",
      "\n",
      "Notes\n",
      "-----\n",
      "Equivalent to `x1` + `x2` in terms of array broadcasting.\n",
      "\n",
      "Examples\n",
      "--------\n",
      ">>> np.add(1.0, 4.0)\n",
      "5.0\n",
      ">>> x1 = np.arange(9.0).reshape((3, 3))\n",
      ">>> x2 = np.arange(3.0)\n",
      ">>> np.add(x1, x2)\n",
      "array([[  0.,   2.,   4.],\n",
      "       [  3.,   5.,   7.],\n",
      "       [  6.,   8.,  10.]])\n",
      "\n",
      "The ``+`` operator can be used as a shorthand for ``np.add`` on ndarrays.\n",
      "\n",
      ">>> x1 = np.arange(9.0).reshape((3, 3))\n",
      ">>> x2 = np.arange(3.0)\n",
      ">>> x1 + x2\n",
      "array([[ 0.,  2.,  4.],\n",
      "       [ 3.,  5.,  7.],\n",
      "       [ 6.,  8., 10.]])\n",
      "None\n"
     ]
    }
   ],
   "source": [
    "print(np.info(np.add))"
   ]
  },
  {
   "cell_type": "markdown",
   "id": "cc36805d",
   "metadata": {},
   "source": [
    "#3. Write a NumPy program to test whether none of the elements of a given array is zero"
   ]
  },
  {
   "cell_type": "code",
   "execution_count": 7,
   "id": "8854abe7",
   "metadata": {},
   "outputs": [
    {
     "name": "stdout",
     "output_type": "stream",
     "text": [
      "Original Array: \n",
      "[1 2 3 4]\n",
      "Test whether none of the elements of a given array is zero: \n",
      "True\n",
      "\n",
      "Original Array: \n",
      "[0 2 4 6]\n",
      "Test whether none of the elements of a given array is zero: \n",
      "False\n"
     ]
    }
   ],
   "source": [
    "import numpy as np\n",
    "\n",
    "arr = np.array([1,2,3,4])\n",
    "\n",
    "print(\"Original Array: \")\n",
    "\n",
    "print(arr)\n",
    "\n",
    "print('Test whether none of the elements of a given array is zero: ')\n",
    "print(np.all(arr))\n",
    "\n",
    "print('')\n",
    "arr2 = np.array([0,2,4,6])\n",
    "\n",
    "print('Original Array: ')\n",
    "print(arr2)\n",
    "\n",
    "print('Test whether none of the elements of a given array is zero: ')\n",
    "print(np.all(arr2))"
   ]
  },
  {
   "cell_type": "markdown",
   "id": "6aee95f7",
   "metadata": {},
   "source": [
    "#4. Write a NumPy program to test whether any of the elements of a \n",
    "given array is non-zero"
   ]
  },
  {
   "cell_type": "code",
   "execution_count": null,
   "id": "e3d0ac4a",
   "metadata": {},
   "outputs": [],
   "source": [
    "import numpy as np"
   ]
  },
  {
   "cell_type": "code",
   "execution_count": 8,
   "id": "77568605",
   "metadata": {},
   "outputs": [
    {
     "name": "stdout",
     "output_type": "stream",
     "text": [
      "Original Array: \n",
      "[2 0 0 0]\n",
      "Check whether any of the elements of a given array is non-zero\n",
      "True\n",
      "\n",
      "Original Array: \n",
      "[0 0 0 0]\n",
      "Check whether any of the elements of a given array is non-zero\n",
      "False\n"
     ]
    }
   ],
   "source": [
    "arr = np.array([2,0,0,0])\n",
    "\n",
    "print('Original Array: ')\n",
    "print(arr)\n",
    "\n",
    "print('Check whether any of the elements of a given array is non-zero')\n",
    "print(any(arr))\n",
    "\n",
    "print('')\n",
    "\n",
    "arr2 = np.array([0,0,0,0])\n",
    "print('Original Array: ')\n",
    "print(arr2)\n",
    "\n",
    "print('Check whether any of the elements of a given array is non-zero')\n",
    "print(any(arr2))"
   ]
  },
  {
   "cell_type": "markdown",
   "id": "60b2b41e",
   "metadata": {},
   "source": [
    "# any()\n",
    "\n",
    "The any() function returns True if any item in an iterable are true, otherwise it returns False.\n",
    "\n",
    "If the iterable object is empty, the any() function will return False."
   ]
  },
  {
   "cell_type": "markdown",
   "id": "7ad538ef",
   "metadata": {},
   "source": [
    "# all()\n",
    "\n",
    "The all() function returns True if all items in an iterable are true, otherwise it returns False.\n",
    "\n",
    "If the iterable object is empty, the all() function also returns True.\n",
    "\n",
    "\n",
    "\n",
    "mylist = [0, 1, 1]\n",
    "x = all(mylist)\n",
    "print(x)\n",
    "\n",
    "O/P : False"
   ]
  },
  {
   "cell_type": "markdown",
   "id": "0832bba1",
   "metadata": {},
   "source": [
    "#5. Write a NumPy program to create a 3X4 array using and iterate over it."
   ]
  },
  {
   "cell_type": "code",
   "execution_count": 10,
   "id": "25ecefff",
   "metadata": {},
   "outputs": [
    {
     "name": "stdout",
     "output_type": "stream",
     "text": [
      "Original Array: \n",
      "[[10 11 12 13]\n",
      " [14 15 16 17]\n",
      " [18 19 20 21]]\n",
      "Each element of the array is: \n",
      "[10 11 12 13] [14 15 16 17] [18 19 20 21] "
     ]
    }
   ],
   "source": [
    "import numpy as np\n",
    "a = np.arange(10,22).reshape((3,4))\n",
    "print('Original Array: ')\n",
    "print(a)\n",
    "\n",
    "print('Each element of the array is: ')\n",
    "for x in a:\n",
    "    print(x,end=' ')"
   ]
  },
  {
   "cell_type": "code",
   "execution_count": 11,
   "id": "0be30e3f",
   "metadata": {},
   "outputs": [
    {
     "name": "stdout",
     "output_type": "stream",
     "text": [
      "Original Array: \n",
      "[[10 11 12 13]\n",
      " [14 15 16 17]\n",
      " [18 19 20 21]]\n",
      "Each element of the array is: \n",
      "10 11 12 13 14 15 16 17 18 19 20 21 "
     ]
    }
   ],
   "source": [
    "import numpy as np\n",
    "a = np.arange(10,22).reshape((3,4))\n",
    "print('Original Array: ')\n",
    "print(a)\n",
    "\n",
    "print('Each element of the array is: ')\n",
    "for x in np.nditer(a):\n",
    "    print(x,end=' ')"
   ]
  },
  {
   "cell_type": "markdown",
   "id": "43f4e649",
   "metadata": {},
   "source": [
    "Iterating Arrays Using **nditer()**\n",
    "The function nditer() is a helping function that can be used from very basic to very advanced iterations. It solves some basic issues which we face in iteration, lets go through it with examples.\n",
    "\n",
    "Iterating on Each Scalar Element\n",
    "In basic **for** loops, iterating through each scalar of an array we need to use n for loops which can be difficult to write for arrays with very high dimensionality.\n",
    "/---------------------------\n",
    "import numpy as np\n",
    "\n",
    "arr = np.array([[[1, 2, 3], [4, 5, 6]], [[7, 8, 9], [10, 11, 12]]])\n",
    "\n",
    "for x in arr:\n",
    "  for y in x:\n",
    "    for z in y:\n",
    "      print(z)\n",
    "\n",
    "---------------------------/\n",
    "\n",
    "/---------------------------\n",
    "import numpy as np\n",
    "\n",
    "arr = np.array([[[1, 2], [3, 4]], [[5, 6], [7, 8]]])\n",
    "\n",
    "for x in np.nditer(arr):\n",
    "  print(x)\n",
    "  \n",
    "-----------------------------/"
   ]
  },
  {
   "cell_type": "markdown",
   "id": "32ec39c7",
   "metadata": {},
   "source": [
    "#6. Write a NumPy program to test a given array element-wise for finiteness (not infinity or not a Number)"
   ]
  },
  {
   "cell_type": "code",
   "execution_count": null,
   "id": "6102be7f",
   "metadata": {},
   "outputs": [],
   "source": [
    "import numpy as np"
   ]
  },
  {
   "cell_type": "code",
   "execution_count": 30,
   "id": "67354cab",
   "metadata": {},
   "outputs": [
    {
     "name": "stdout",
     "output_type": "stream",
     "text": [
      "Original Array: \n",
      "[2.5 4.  6.  8.  nan inf]\n",
      "Test whether a given array element-wise for finiteness : \n",
      "[False False False False False  True]\n"
     ]
    }
   ],
   "source": [
    "arr = np.array([2.5,4,6,8, np.nan ,np.inf])\n",
    "print('Original Array: ')\n",
    "print(arr)\n",
    "\n",
    "print('Test whether a given array element-wise for finiteness : ')\n",
    "print(np.isinf(arr))"
   ]
  },
  {
   "cell_type": "markdown",
   "id": "37cf5429",
   "metadata": {},
   "source": [
    "**isinf():    True if value is inf\n",
    "  isfinite(): True if not nan or inf **"
   ]
  },
  {
   "cell_type": "markdown",
   "id": "b857ecec",
   "metadata": {},
   "source": [
    "#7.\n",
    "Write a NumPy program to test element-wise for positive or negative infinity."
   ]
  },
  {
   "cell_type": "code",
   "execution_count": 29,
   "id": "cfb15b86",
   "metadata": {},
   "outputs": [
    {
     "name": "stdout",
     "output_type": "stream",
     "text": [
      "Original array : \n",
      "[1.  0.  6.9 nan inf]\n",
      "\n",
      "Test element wise fo positive or negative infinity\n",
      "[False False False False  True]\n"
     ]
    }
   ],
   "source": [
    "import numpy as np\n",
    "\n",
    "arr = np.array([1,0,6.9, np.nan,np.inf])\n",
    "print('Original array : ')\n",
    "print(arr)\n",
    "print()\n",
    "print('Test element wise fo positive or negative infinity')\n",
    "print(np.isinf(arr))"
   ]
  },
  {
   "cell_type": "markdown",
   "id": "85f4eebd",
   "metadata": {},
   "source": [
    "#8. Write a NumPy program to test element-wise for NaN of a given array."
   ]
  },
  {
   "cell_type": "code",
   "execution_count": 35,
   "id": "bb8ec83e",
   "metadata": {},
   "outputs": [
    {
     "name": "stdout",
     "output_type": "stream",
     "text": [
      "Original array: \n",
      "[[ 4.  5.  6.]\n",
      " [ 7.  8.  9.]\n",
      " [nan nan inf]]\n",
      "\n",
      "Check if array conatains NaN : \n",
      "[[False False False]\n",
      " [False False False]\n",
      " [ True  True False]]\n"
     ]
    }
   ],
   "source": [
    "import numpy as np\n",
    "arr = np.array([[4,5,6],[7,8,9],[np.nan,np.nan,np.inf]])\n",
    "\n",
    "print('Original array: ')\n",
    "print(arr)\n",
    "print()\n",
    "print('Check if array conatains NaN : ')\n",
    "print(np.isnan(arr))"
   ]
  },
  {
   "cell_type": "markdown",
   "id": "93cb440b",
   "metadata": {},
   "source": [
    "#9. Write a NumPy program to test element-wise for complex number, real number of a given array. Also test whether a given number is a scalar type or not"
   ]
  },
  {
   "cell_type": "code",
   "execution_count": 36,
   "id": "853ab598",
   "metadata": {},
   "outputs": [],
   "source": [
    "import numpy as np"
   ]
  },
  {
   "cell_type": "code",
   "execution_count": 47,
   "id": "82b76e35",
   "metadata": {},
   "outputs": [
    {
     "name": "stdout",
     "output_type": "stream",
     "text": [
      "Original array: \n",
      "[ 4.+0.j  6.+0.j  8.+0.j 10.+0.j  2.+3.j  4.+0.j  0.+6.j]\n",
      "\n",
      "\n",
      "check if [ 4.+0.j  6.+0.j  8.+0.j 10.+0.j  2.+3.j  4.+0.j  0.+6.j] is complex\n",
      "[False False False False  True False  True]\n",
      "\n",
      "Check if arr is real: \n",
      "[ True  True  True  True False  True False]\n",
      "\n",
      "check for scalar: \n",
      "False\n"
     ]
    }
   ],
   "source": [
    "arr = np.array([4,6,8,10,2+3j,4+0j,0+6j])\n",
    "\n",
    "print('Original array: ')\n",
    "print(arr)\n",
    "\n",
    "print('\\n')\n",
    "print('check if {} is complex'.format(arr))\n",
    "print(np.iscomplex(arr))\n",
    "\n",
    "print('')\n",
    "\n",
    "print('Check if arr is real: ')\n",
    "print(np.isreal(arr))\n",
    "\n",
    "print('')\n",
    "\n",
    "print('check for scalar: ')\n",
    "print(np.isscalar(arr))"
   ]
  },
  {
   "cell_type": "raw",
   "id": "b63025a5",
   "metadata": {},
   "source": [
    "complex number are numbers in the form of a + bi"
   ]
  },
  {
   "cell_type": "markdown",
   "id": "229c7d8b",
   "metadata": {},
   "source": [
    "The isscalar() function is used to returns True if the type of num\n",
    "is a scalar type."
   ]
  },
  {
   "cell_type": "code",
   "execution_count": 59,
   "id": "2a13b7b1",
   "metadata": {},
   "outputs": [
    {
     "name": "stdout",
     "output_type": "stream",
     "text": [
      "True\n",
      "True\n",
      "True\n",
      "True\n",
      "False\n",
      "False\n"
     ]
    }
   ],
   "source": [
    "a = (5.2)\n",
    "print(np.isscalar(a))\n",
    "\n",
    "a = False\n",
    "print(np.isscalar(a))\n",
    "\n",
    "a = 'Hiasflafd'\n",
    "print(np.isscalar(a))\n",
    "\n",
    "a = 6.9\n",
    "print(np.isscalar(a))\n",
    "\n",
    "a = []\n",
    "print(np.isscalar(a))\n",
    "\n",
    "a = ()\n",
    "print(np.isscalar(a))\n"
   ]
  },
  {
   "cell_type": "markdown",
   "id": "98319896",
   "metadata": {},
   "source": [
    "#10.Write a NumPy program to create an array with the values 1, 7, 13, 105 and determine the size of the memory occupied by the array"
   ]
  },
  {
   "cell_type": "code",
   "execution_count": null,
   "id": "9a182e77",
   "metadata": {},
   "outputs": [],
   "source": [
    "import numpy as np"
   ]
  },
  {
   "cell_type": "code",
   "execution_count": 65,
   "id": "cdc76a16",
   "metadata": {},
   "outputs": [
    {
     "name": "stdout",
     "output_type": "stream",
     "text": [
      "Original Array: \n",
      "[  1   7  13 105]\n",
      "\n",
      "Size of memory occupied by the array: \n",
      "16 bytes\n"
     ]
    }
   ],
   "source": [
    "arr = np.array([1,7,13,105,])\n",
    "\n",
    "print('Original Array: ')\n",
    "print(arr)\n",
    "\n",
    "print('')\n",
    "print('Size of memory occupied by the array: ')\n",
    "print(\"%d bytes\" %(arr.size*arr.itemsize))"
   ]
  },
  {
   "cell_type": "code",
   "execution_count": 68,
   "id": "d0eabd14",
   "metadata": {},
   "outputs": [
    {
     "name": "stdout",
     "output_type": "stream",
     "text": [
      "24 bytes\n"
     ]
    }
   ],
   "source": [
    "arr = np.array(['string'])\n",
    "print(\"%d bytes\"%(arr.size * arr.itemsize))"
   ]
  },
  {
   "cell_type": "code",
   "execution_count": 72,
   "id": "f73c8d93",
   "metadata": {},
   "outputs": [
    {
     "name": "stdout",
     "output_type": "stream",
     "text": [
      "8 bytes\n"
     ]
    }
   ],
   "source": [
    "arr = np.array([6.9])\n",
    "print(\"%d bytes\"%(arr.size *arr.itemsize))"
   ]
  },
  {
   "cell_type": "code",
   "execution_count": null,
   "id": "be844fa8",
   "metadata": {},
   "outputs": [],
   "source": []
  },
  {
   "cell_type": "code",
   "execution_count": null,
   "id": "c97c1a89",
   "metadata": {},
   "outputs": [],
   "source": []
  }
 ],
 "metadata": {
  "kernelspec": {
   "display_name": "Python 3 (ipykernel)",
   "language": "python",
   "name": "python3"
  },
  "language_info": {
   "codemirror_mode": {
    "name": "ipython",
    "version": 3
   },
   "file_extension": ".py",
   "mimetype": "text/x-python",
   "name": "python",
   "nbconvert_exporter": "python",
   "pygments_lexer": "ipython3",
   "version": "3.9.7"
  }
 },
 "nbformat": 4,
 "nbformat_minor": 5
}
